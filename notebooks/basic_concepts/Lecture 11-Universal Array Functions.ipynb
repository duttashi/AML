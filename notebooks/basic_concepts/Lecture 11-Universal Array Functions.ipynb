{
 "cells": [
  {
   "cell_type": "code",
   "execution_count": 1,
   "metadata": {
    "collapsed": true
   },
   "outputs": [],
   "source": [
    "import numpy as np"
   ]
  },
  {
   "cell_type": "code",
   "execution_count": 2,
   "metadata": {
    "collapsed": true
   },
   "outputs": [],
   "source": [
    "arr=np.arange(50)"
   ]
  },
  {
   "cell_type": "code",
   "execution_count": 3,
   "metadata": {
    "collapsed": false
   },
   "outputs": [
    {
     "data": {
      "text/plain": [
       "array([ 0,  1,  2,  3,  4,  5,  6,  7,  8,  9, 10, 11, 12, 13, 14, 15, 16,\n",
       "       17, 18, 19, 20, 21, 22, 23, 24, 25, 26, 27, 28, 29, 30, 31, 32, 33,\n",
       "       34, 35, 36, 37, 38, 39, 40, 41, 42, 43, 44, 45, 46, 47, 48, 49])"
      ]
     },
     "execution_count": 3,
     "metadata": {},
     "output_type": "execute_result"
    }
   ],
   "source": [
    "arr"
   ]
  },
  {
   "cell_type": "code",
   "execution_count": 6,
   "metadata": {
    "collapsed": false
   },
   "outputs": [
    {
     "data": {
      "text/plain": [
       "array([ 0.        ,  1.        ,  1.41421356,  1.73205081,  2.        ,\n",
       "        2.23606798,  2.44948974,  2.64575131,  2.82842712,  3.        ,\n",
       "        3.16227766,  3.31662479,  3.46410162,  3.60555128,  3.74165739,\n",
       "        3.87298335,  4.        ,  4.12310563,  4.24264069,  4.35889894,\n",
       "        4.47213595,  4.58257569,  4.69041576,  4.79583152,  4.89897949,\n",
       "        5.        ,  5.09901951,  5.19615242,  5.29150262,  5.38516481,\n",
       "        5.47722558,  5.56776436,  5.65685425,  5.74456265,  5.83095189,\n",
       "        5.91607978,  6.        ,  6.08276253,  6.164414  ,  6.244998  ,\n",
       "        6.32455532,  6.40312424,  6.4807407 ,  6.55743852,  6.63324958,\n",
       "        6.70820393,  6.78232998,  6.8556546 ,  6.92820323,  7.        ])"
      ]
     },
     "execution_count": 6,
     "metadata": {},
     "output_type": "execute_result"
    }
   ],
   "source": [
    "np.sqrt(arr)"
   ]
  },
  {
   "cell_type": "code",
   "execution_count": 7,
   "metadata": {
    "collapsed": false
   },
   "outputs": [
    {
     "data": {
      "text/plain": [
       "array([  1.00000000e+00,   2.71828183e+00,   7.38905610e+00,\n",
       "         2.00855369e+01,   5.45981500e+01,   1.48413159e+02,\n",
       "         4.03428793e+02,   1.09663316e+03,   2.98095799e+03,\n",
       "         8.10308393e+03,   2.20264658e+04,   5.98741417e+04,\n",
       "         1.62754791e+05,   4.42413392e+05,   1.20260428e+06,\n",
       "         3.26901737e+06,   8.88611052e+06,   2.41549528e+07,\n",
       "         6.56599691e+07,   1.78482301e+08,   4.85165195e+08,\n",
       "         1.31881573e+09,   3.58491285e+09,   9.74480345e+09,\n",
       "         2.64891221e+10,   7.20048993e+10,   1.95729609e+11,\n",
       "         5.32048241e+11,   1.44625706e+12,   3.93133430e+12,\n",
       "         1.06864746e+13,   2.90488497e+13,   7.89629602e+13,\n",
       "         2.14643580e+14,   5.83461743e+14,   1.58601345e+15,\n",
       "         4.31123155e+15,   1.17191424e+16,   3.18559318e+16,\n",
       "         8.65934004e+16,   2.35385267e+17,   6.39843494e+17,\n",
       "         1.73927494e+18,   4.72783947e+18,   1.28516001e+19,\n",
       "         3.49342711e+19,   9.49611942e+19,   2.58131289e+20,\n",
       "         7.01673591e+20,   1.90734657e+21])"
      ]
     },
     "execution_count": 7,
     "metadata": {},
     "output_type": "execute_result"
    }
   ],
   "source": [
    "np.exp(arr)"
   ]
  },
  {
   "cell_type": "code",
   "execution_count": 8,
   "metadata": {
    "collapsed": true
   },
   "outputs": [],
   "source": [
    "#### Creating an array with random number & random normal distribution as given"
   ]
  },
  {
   "cell_type": "code",
   "execution_count": 9,
   "metadata": {
    "collapsed": false
   },
   "outputs": [
    {
     "data": {
      "text/plain": [
       "array([-0.33421044, -0.95311974,  0.19369482, -0.33690746,  1.23014625,\n",
       "       -0.23370885, -1.30383601,  1.01164977,  1.64816893,  0.39909569])"
      ]
     },
     "execution_count": 9,
     "metadata": {},
     "output_type": "execute_result"
    }
   ],
   "source": [
    "A = np.random.randn(10)\n",
    "A"
   ]
  },
  {
   "cell_type": "code",
   "execution_count": 10,
   "metadata": {
    "collapsed": false
   },
   "outputs": [
    {
     "data": {
      "text/plain": [
       "array([ 0.74060815, -0.22460765, -0.66663331,  0.26584108, -0.82681005,\n",
       "       -0.39292447,  0.53078393,  0.09621302,  0.7157114 ,  0.64024327])"
      ]
     },
     "execution_count": 10,
     "metadata": {},
     "output_type": "execute_result"
    }
   ],
   "source": [
    "B= np.random.randn(10)\n",
    "B"
   ]
  },
  {
   "cell_type": "code",
   "execution_count": 11,
   "metadata": {
    "collapsed": true
   },
   "outputs": [],
   "source": [
    "# Performing Binary Functions"
   ]
  },
  {
   "cell_type": "code",
   "execution_count": 12,
   "metadata": {
    "collapsed": false
   },
   "outputs": [
    {
     "data": {
      "text/plain": [
       "array([ 0.40639771, -1.17772738, -0.47293849, -0.07106638,  0.4033362 ,\n",
       "       -0.62663332, -0.77305208,  1.10786278,  2.36388034,  1.03933897])"
      ]
     },
     "execution_count": 12,
     "metadata": {},
     "output_type": "execute_result"
    }
   ],
   "source": [
    "A+B"
   ]
  },
  {
   "cell_type": "code",
   "execution_count": 13,
   "metadata": {
    "collapsed": false
   },
   "outputs": [
    {
     "data": {
      "text/plain": [
       "array([ 0.74060815, -0.22460765,  0.19369482,  0.26584108,  1.23014625,\n",
       "       -0.23370885,  0.53078393,  1.01164977,  1.64816893,  0.64024327])"
      ]
     },
     "execution_count": 13,
     "metadata": {},
     "output_type": "execute_result"
    }
   ],
   "source": [
    "# Finding max or min of two arrays\n",
    "np.maximum(A,B)"
   ]
  },
  {
   "cell_type": "code",
   "execution_count": 14,
   "metadata": {
    "collapsed": true
   },
   "outputs": [],
   "source": [
    "# For the full documentation on Universal Array functions check out http://docs.scipy.org/doc/numpy-1.10.0/reference/ufuncs.html"
   ]
  },
  {
   "cell_type": "code",
   "execution_count": 15,
   "metadata": {
    "collapsed": false
   },
   "outputs": [
    {
     "data": {
      "text/plain": [
       "True"
      ]
     },
     "execution_count": 15,
     "metadata": {},
     "output_type": "execute_result"
    }
   ],
   "source": [
    "# To call this webpage in this notebook we can code it like this\n",
    "import webbrowser as wb\n",
    "website='http://docs.scipy.org/doc/numpy-1.10.0/reference/ufuncs.html'\n",
    "wb.open(website)"
   ]
  },
  {
   "cell_type": "code",
   "execution_count": null,
   "metadata": {
    "collapsed": true
   },
   "outputs": [],
   "source": []
  }
 ],
 "metadata": {
  "kernelspec": {
   "display_name": "Python 2",
   "language": "python",
   "name": "python2"
  },
  "language_info": {
   "codemirror_mode": {
    "name": "ipython",
    "version": 2
   },
   "file_extension": ".py",
   "mimetype": "text/x-python",
   "name": "python",
   "nbconvert_exporter": "python",
   "pygments_lexer": "ipython2",
   "version": "2.7.10"
  }
 },
 "nbformat": 4,
 "nbformat_minor": 0
}
